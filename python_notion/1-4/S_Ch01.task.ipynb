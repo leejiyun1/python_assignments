{
 "cells": [
  {
   "cell_type": "markdown",
   "metadata": {},
   "source": [
    "<span style=\"font-size:100%\">\n",
    "\n",
    "수업은 모두 열심히 들으셨나요?\n",
    "\n",
    "간혹 강의에서 언급되지 않은 내용이 문제로 나올 수 있습니다.<br>\n",
    "그럴땐 강의 내용 외 문제는 구글링을 통해 해결해주세요<br></span>\n",
    "<span style=\"font-size:80%\">\n",
    "(구글링 또한 개발자가 갖쳐야할 역량 중에 하나랍니다 😊)\n",
    "</span>\n",
    "\n",
    "---"
   ]
  },
  {
   "cell_type": "markdown",
   "metadata": {},
   "source": [
    "<span style=\"font-size:80%\">[문제1]<br><br></span>\n",
    "```인터프리트 방식에 대해 설명하고 2개 이상의 장점을 설명해주세요```"
   ]
  },
  {
   "cell_type": "markdown",
   "metadata": {},
   "source": [
    "<span style=\"color:red\">답변</span>"
   ]
  },
  {
   "cell_type": "markdown",
   "metadata": {},
   "source": [
    "인터프리트 방식은 코드를 한 줄씩 읽고 실행하는 방식의 프로그래밍 언어 실행 방식입니다.\n",
    "대표적인 인터프리트 언어는 python, javascript 등이 있습니다.\n",
    "\n",
    "장점으로는\n",
    "코드를  한 줄씩 실행하므로 실행 중간에 오류를 바로 확인하고 쉽게 고칠 수 있습니다.\n",
    "운영체제나 하드웨어에 의존하지 않고 실행 가능하기 때문에 윈도우, 맥, 리녹스 어떤 곳에서도 동일하게 실행됩니다."
   ]
  },
  {
   "cell_type": "markdown",
   "metadata": {},
   "source": [
    "---"
   ]
  },
  {
   "cell_type": "markdown",
   "metadata": {},
   "source": [
    "<span style=\"font-size:80%\">[문제2]<br><br></span>\n",
    "```동적 타입 방식의 장점과 단점을 간략히 설명해주세요```"
   ]
  },
  {
   "cell_type": "markdown",
   "metadata": {},
   "source": [
    "<span style=\"color:red\">답변</span>"
   ]
  },
  {
   "cell_type": "markdown",
   "metadata": {},
   "source": [
    "장점.\n",
    "\n",
    "코드가 간결하고 유연합니다.  \n",
    "생산성이 높습니다.  \n",
    "\n",
    "단점.\n",
    "\n",
    "오류 발견이 어렵습니다.  \n",
    "실행 속도가 느릴 수 있습니다.  "
   ]
  },
  {
   "cell_type": "markdown",
   "metadata": {},
   "source": [
    "---"
   ]
  },
  {
   "cell_type": "markdown",
   "metadata": {},
   "source": [
    "<span style=\"font-size:80%\">[문제3]<br><br></span>\n",
    "```Python으로 정적타입 방식의 코드를 작성할 수 있는 방법을 구글링을 통해 검색 후 설명해주세요```"
   ]
  },
  {
   "cell_type": "markdown",
   "metadata": {},
   "source": [
    "<span style=\"color:red\">답변</span>"
   ]
  },
  {
   "cell_type": "markdown",
   "metadata": {},
   "source": [
    "1. 타입을 사용해 타입 힌트 제공 받습니다. (Python 3.5버전 이상부터 가능)\n",
    "2. mypy를 통해 정적 타입 검사를 실행 전에 수행 가능합니다.\n",
    "3. pydantic으로 실행 시 강제 타입 검사를 할 수 있습니다."
   ]
  },
  {
   "cell_type": "markdown",
   "metadata": {},
   "source": [
    "---"
   ]
  },
  {
   "cell_type": "markdown",
   "metadata": {},
   "source": [
    "<span style=\"font-size:80%\">[문제4]<br><br></span>\n",
    "```프로세스와 스레드의 차이점을 설명해주세요```"
   ]
  },
  {
   "cell_type": "markdown",
   "metadata": {},
   "source": [
    "<span style=\"color:red\">답변</span>"
   ]
  },
  {
   "cell_type": "markdown",
   "metadata": {},
   "source": [
    "둘은 모두 cpu에서 작업을 수행하는 기본 단위이지만 서로 다른 개념입니다.\n",
    "프로세스는 독립적인 실행 단위이며 운영체제에서 관리를 하지만\n",
    "스레드는 프로세스 내부에서 실행되는 작은 단위 입니다."
   ]
  },
  {
   "cell_type": "markdown",
   "metadata": {},
   "source": [
    "---"
   ]
  },
  {
   "cell_type": "markdown",
   "metadata": {},
   "source": [
    "<span style=\"font-size:80%\">[문제5]<br><br></span>\n",
    "```Python 2버전대와 3버전대의 차이를 성명해주세요```"
   ]
  },
  {
   "cell_type": "markdown",
   "metadata": {},
   "source": [
    "<span style=\"color:red\">답변</span>"
   ]
  },
  {
   "cell_type": "markdown",
   "metadata": {},
   "source": [
    "파이선 2는 2020년에 지원이 종료되었습니다.\n",
    "일단 파이선 2에서 3으로 넘어오면서 print 명령어 뒤에 ()를 사용해서 입력하게 바뀌었고, 나눗셈 연산도 소수점이 나오도록 변했습니다.\n",
    "문자열 처리 방식도 2는 ASCII, 3은 기본 UTF-8입니다.\n",
    "입력 함수도 변했고 반복문의 방식도 바꼇습니다."
   ]
  },
  {
   "cell_type": "markdown",
   "metadata": {},
   "source": []
  },
  {
   "cell_type": "markdown",
   "metadata": {},
   "source": [
    "---"
   ]
  },
  {
   "cell_type": "markdown",
   "metadata": {},
   "source": [
    "<span style=\"font-size:80%\">[문제6]<br><br></span>\n",
    "```Python에서 메모리 관리는 어떻게 이루어지는지 설명해주세요```"
   ]
  },
  {
   "cell_type": "markdown",
   "metadata": {},
   "source": [
    "<span style=\"color:red\">답변</span>"
   ]
  },
  {
   "cell_type": "markdown",
   "metadata": {},
   "source": [
    "자동 메모리 관리로 인해 개발자가 직접 메모리를 할당/해제할 필요가 없습니다.\n",
    "객체가 몇 번 참조되는지 추적하여 참조가 0이면 자동으로 삭제합니다.\n",
    "가비지 컬레션으로 순환 참조된 객체를 자동으로 정리하는 기능이 잇습니다.\n",
    "메모리 풀 관리로 작은 객체는 미리 할당된 메모리 풀에서 재사용합니다."
   ]
  }
 ],
 "metadata": {
  "kernelspec": {
   "display_name": "Python 3",
   "language": "python",
   "name": "python3"
  },
  "language_info": {
   "codemirror_mode": {
    "name": "ipython",
    "version": 3
   },
   "file_extension": ".py",
   "mimetype": "text/x-python",
   "name": "python",
   "nbconvert_exporter": "python",
   "pygments_lexer": "ipython3",
   "version": "3.9.6"
  }
 },
 "nbformat": 4,
 "nbformat_minor": 2
}
