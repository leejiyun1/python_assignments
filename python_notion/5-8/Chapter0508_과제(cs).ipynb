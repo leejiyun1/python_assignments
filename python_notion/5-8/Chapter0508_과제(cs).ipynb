{
 "cells": [
  {
   "cell_type": "markdown",
   "metadata": {
    "id": "WXEwMsfUct7U"
   },
   "source": [
    "컴퓨터 기초 지식을 의미하는 CS(Computer science)는<br>\n",
    "코딩 테스트와 함께 기술 면접에서 지원자에게 필수적으로 요구합니다.<br>\n",
    "\n",
    "수업 내용 중 기술 면접에 자주 나오는 질문 3가지와 기본적으로 알아야 할 내용 과제로 선정했습니다.<br>\n",
    "\n",
    "관련 내용에 대해서는 구글링 또는 관련 서적을 통해 상세히 공부하시고<br>\n",
    "답변은 최대한 핵심만 담아 간결하게 작성해주세요<br>\n",
    "\n",
    "기술 블로그를 운영 중이신 경우<br>\n",
    "답변 내용을 기술 블로그에 작성하신 후 링크를 답변에 남겨주셔도 됩니다.<br>"
   ]
  },
  {
   "cell_type": "markdown",
   "metadata": {
    "id": "qoyC9wF-3hvs"
   },
   "source": [
    "-----"
   ]
  },
  {
   "cell_type": "markdown",
   "metadata": {
    "id": "rAD_O3Gmc_43"
   },
   "source": [
    "[문제1]\n",
    "\n",
    "Python의 변수 할당 개념을 다른 언어와 비교해 설명해주세요\n"
   ]
  },
  {
   "cell_type": "markdown",
   "metadata": {},
   "source": [
    "<span style=\"color:red\">답변</span>"
   ]
  },
  {
   "cell_type": "markdown",
   "metadata": {},
   "source": [
    "Python은 동적 할당(Dynamic Typing) 방식으로, 변수 선언 시 자료형을 명시하지 않아도 됩니다. 변수는 값이 아닌 객체의 참조(Reference) 를 저장하며, 자료형이 자동으로 변경될 수 있습니다. 이는 코드의 유연성을 높이지만, 메모리 사용량이 증가하고 실행 속도가 느려지는 단점이 있습니다.\n",
    "\n",
    "반면, Java는 정적 할당(Static Typing) 방식으로, 변수 선언 시 자료형을 명시해야 하며, 한 번 정해진 자료형은 변경할 수 없습니다. 이로 인해 메모리 관리가 효율적이며, 실행 속도가 빠르지만, 코드 작성 시 타입 선언이 필요하여 상대적으로 불편할 수 있습니다."
   ]
  },
  {
   "cell_type": "markdown",
   "metadata": {},
   "source": [
    "---"
   ]
  },
  {
   "cell_type": "markdown",
   "metadata": {
    "id": "3uK_auXYdgk2"
   },
   "source": [
    "[문제2]\n",
    "\n",
    "Python의 실수형(float) 계산 시 오차가 발생하는 이유에 대해 간단히 설명해 주세요"
   ]
  },
  {
   "cell_type": "markdown",
   "metadata": {},
   "source": [
    "<span style=\"color:red\">답변</span>"
   ]
  },
  {
   "cell_type": "markdown",
   "metadata": {},
   "source": [
    "Python의 실수(float) 계산에서 오차가 발생하는 이유는 컴퓨터가 실수를 2진수로 변환하는 과정에서 일부 값을 정확하게 표현할 수 없기 때문입니다. 예를 들어, 0.1은 2진수로 무한 반복되는 형태가 되어 정확한 저장이 불가능하며, 근사값으로 저장됩니다. 이로 인해 연산 시 미세한 오차가 발생할 수 있습니다."
   ]
  },
  {
   "cell_type": "markdown",
   "metadata": {},
   "source": [
    "----"
   ]
  },
  {
   "cell_type": "markdown",
   "metadata": {
    "id": "2Jte2VLKdiPm"
   },
   "source": [
    "[문제3]\n",
    "\n",
    "슬라이싱에 대해 간단히 설명해주세요"
   ]
  },
  {
   "cell_type": "markdown",
   "metadata": {},
   "source": [
    "<span style=\"color:red\">답변</span>"
   ]
  },
  {
   "cell_type": "markdown",
   "metadata": {},
   "source": [
    "슬라이싱은 리스트, 문자열, 튜플 등에서 특정 범위의 요소를 추출하는 기능입니다."
   ]
  }
 ],
 "metadata": {
  "colab": {
   "authorship_tag": "ABX9TyP7YKA5FdtGggYfD74V7SMJ",
   "provenance": []
  },
  "kernelspec": {
   "display_name": "Python 3",
   "name": "python3"
  },
  "language_info": {
   "name": "python"
  }
 },
 "nbformat": 4,
 "nbformat_minor": 0
}
