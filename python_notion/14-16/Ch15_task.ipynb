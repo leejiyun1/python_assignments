{
  "cells": [
    {
      "cell_type": "markdown",
      "metadata": {
        "id": "AW986wWsorAs"
      },
      "source": [
        "<span style=\"font-size:100%\">\n",
        "\n",
        "수업은 모두 열심히 들으셨나요?\n",
        "\n",
        "간혹 강의에서 언급되지 않은 내용이 문제로 나올 수 있습니다.<br>\n",
        "그럴땐 강의 내용 외 문제는 구글링을 통해 해결해주세요<br></span>\n",
        "<span style=\"font-size:80%\">\n",
        "(구글링 또한 개발자가 갖쳐야할 역량 중에 하나랍니다 😊)\n",
        "</span>\n",
        "\n",
        "---"
      ]
    },
    {
      "cell_type": "markdown",
      "metadata": {
        "id": "yWe0aOr7orAu"
      },
      "source": [
        "<span style=\"font-size:80%\">[문제1]<br><br></span>\n",
        "```다음 중 for문으로 10번 반복하는 방법으로 올바른 것을 모두 골라주세요```\n",
        "\n",
        "1. for i in range(10):\n",
        "2. for i in range(5, 16):\n",
        "3. for i in range(10, 0):\n",
        "4. for i in range(20, 40, 2):\n",
        "5. for i in range(1, 10, 1):"
      ]
    },
    {
      "cell_type": "markdown",
      "metadata": {
        "id": "lVNtT3ioorAv"
      },
      "source": [
        "<span style=\"color:red\">답변</span>"
      ]
    },
    {
      "cell_type": "markdown",
      "metadata": {
        "id": "1BIhZYXuorAv"
      },
      "source": [
        "1 , 4"
      ]
    },
    {
      "cell_type": "markdown",
      "metadata": {
        "id": "cNtdRN9AorAv"
      },
      "source": [
        "----"
      ]
    },
    {
      "cell_type": "markdown",
      "metadata": {
        "id": "AakgCIaHorAv"
      },
      "source": [
        "<span style=\"font-size:80%\">[문제2]<br><br></span>\n",
        "```아래 코드에서 잘못된 부분에 대해서 설명해주세요```\n",
        "\n",
        "count = input()\n",
        "\n",
        "for i in range(count)<br>\n",
        "&emsp;&emsp;print('i의 값은', end=' ')<br>\n",
        "&emsp;&emsp;print(i)<br>"
      ]
    },
    {
      "cell_type": "markdown",
      "metadata": {
        "id": "-ek5rt8qorAv"
      },
      "source": [
        "<span style=\"color:red\">답변</span>"
      ]
    },
    {
      "cell_type": "markdown",
      "metadata": {
        "id": "cDACnboXorAv"
      },
      "source": [
        "기본적으로 인풋에서 받는 정보는 숫자여도 문자열로 전달 받습니다. 그렇기 때문에 range에서 타입 오류가 나옵니다.\n",
        "range(int(count))로 바꿔야 정상적으로 출력 가능합니다."
      ]
    },
    {
      "cell_type": "markdown",
      "metadata": {
        "id": "hE4YrGnIorAw"
      },
      "source": [
        "----"
      ]
    },
    {
      "cell_type": "markdown",
      "metadata": {
        "id": "8i9pmv2korAw"
      },
      "source": [
        "<span style=\"font-size:80%\">[문제3]<br><br></span>\n",
        "```아래 코드를 실행 했을 때 결과물로 올바른 것을 골라주세요```\n",
        "\n",
        "for i in reversed(\"python\"):<br>\n",
        "&emsp;&emsp;print(i, end='.')<br>\n",
        "\n",
        "\n",
        "1. n.o.h.t.y.p.\n",
        "2. p.y.t.h.o.n.\n",
        "3. nothyp\n",
        "4. python"
      ]
    },
    {
      "cell_type": "markdown",
      "metadata": {
        "id": "F9nb-0MUorAw"
      },
      "source": [
        "<span style=\"color:red\">답변</span>"
      ]
    },
    {
      "cell_type": "markdown",
      "metadata": {
        "id": "0-Kuv2H0orAw"
      },
      "source": [
        "1."
      ]
    },
    {
      "cell_type": "markdown",
      "metadata": {
        "id": "MnV8zgFjorAw"
      },
      "source": [
        "----"
      ]
    },
    {
      "cell_type": "markdown",
      "metadata": {
        "id": "tFYsBoqvorAw"
      },
      "source": [
        "<span style=\"font-size:80%\">[문제4]<br><br></span>\n",
        "```리스트에 저장된 데이터를 아래와 같이 출력하세요```\n",
        "\n",
        "오피스텔 = [ [201, 202], [301, 302], [401, 402] ]\n",
        "\n",
        "201호<br>\n",
        "202호<br>\n",
        "`----`\n",
        "\n",
        "301호<br>\n",
        "302호<br>\n",
        "`----`\n",
        "\n",
        "401호<br>\n",
        "402호<br>\n",
        "`----`"
      ]
    },
    {
      "cell_type": "markdown",
      "metadata": {
        "id": "9dmGjUtAorAw"
      },
      "source": [
        "<span style=\"color:red\">답변</span>"
      ]
    },
    {
      "cell_type": "code",
      "execution_count": 1,
      "metadata": {},
      "outputs": [
        {
          "name": "stdout",
          "output_type": "stream",
          "text": [
            "201호\n",
            "202호\n",
            "----\n",
            "301호\n",
            "302호\n",
            "----\n",
            "401호\n",
            "402호\n",
            "----\n"
          ]
        }
      ],
      "source": [
        "오피스텔 = [[201, 202], [301, 302], [401, 402]]  \n",
        "\n",
        "for 층 in 오피스텔:  \n",
        "    for 호수 in 층:  \n",
        "       print(f\"{호수}호\")  \n",
        "    print(\"----\")  "
      ]
    },
    {
      "cell_type": "markdown",
      "metadata": {
        "id": "D_iKfYuQorAw"
      },
      "source": [
        "----"
      ]
    },
    {
      "cell_type": "markdown",
      "metadata": {
        "id": "XU6yPSbJorAw"
      },
      "source": [
        "<span style=\"font-size:80%\">[문제5]<br><br></span>\n",
        "```ohlc 리스트에는 시가(open), 고가 (high), 저가 (low) , 종가(close)가 날짜별로 저장돼 있다. 종가가 150원보다 큰 경우에만 종가를 출력하는 코드를 작성해주세요```\n",
        "\n",
        "ohlc = [[\"open\", \"high\", \"low\", \"close\"], [100, 110, 70, 100], [200, 210, 180, 190], [300, 310, 300, 310]]"
      ]
    },
    {
      "cell_type": "markdown",
      "metadata": {
        "id": "_KBBOxSyorAw"
      },
      "source": [
        "<span style=\"color:red\">답변</span>"
      ]
    },
    {
      "cell_type": "code",
      "execution_count": 2,
      "metadata": {},
      "outputs": [
        {
          "name": "stdout",
          "output_type": "stream",
          "text": [
            "190\n",
            "310\n"
          ]
        }
      ],
      "source": [
        "ohlc = [[\"open\", \"high\", \"low\", \"close\"], \n",
        "        [100, 110, 70, 100], \n",
        "        [200, 210, 180, 190], \n",
        "        [300, 310, 300, 310]]\n",
        "\n",
        "for row in ohlc[1:]:  # 첫 번째 행(헤더)은 제외하고 데이터만 순회\n",
        "    close_price = row[3]  # 종가(close) 값 가져오기\n",
        "    if close_price > 150:  # 종가가 150보다 큰 경우만 출력\n",
        "        print(close_price)"
      ]
    }
  ],
  "metadata": {
    "colab": {
      "provenance": []
    },
    "kernelspec": {
      "display_name": "Python 3",
      "language": "python",
      "name": "python3"
    },
    "language_info": {
      "codemirror_mode": {
        "name": "ipython",
        "version": 3
      },
      "file_extension": ".py",
      "mimetype": "text/x-python",
      "name": "python",
      "nbconvert_exporter": "python",
      "pygments_lexer": "ipython3",
      "version": "3.9.6"
    }
  },
  "nbformat": 4,
  "nbformat_minor": 0
}
