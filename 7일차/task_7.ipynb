{
 "cells": [
  {
   "cell_type": "markdown",
   "metadata": {},
   "source": [
    "함수 실행 시간을 측정하는 데코레이터 timer_decorator를 작성하세요. \n",
    "\n",
    "임의의 함수가 실행되는 시간을 측정하여 \"함수 실행 시간: x.xx초\" 형태로 출력하세요."
   ]
  },
  {
   "cell_type": "code",
   "execution_count": null,
   "metadata": {},
   "outputs": [
    {
     "name": "stdout",
     "output_type": "stream",
     "text": [
      "선생님 파이썬이 재밌어요\n",
      "선생님 파이썬이 재밌어요\n",
      "선생님 파이썬이 재밌어요\n",
      "선생님 파이썬이 재밌어요\n",
      "선생님 파이썬이 재밌어요\n",
      "선생님 파이썬이 재밌어요\n",
      "선생님 파이썬이 재밌어요\n",
      "선생님 파이썬이 재밌어요\n",
      "선생님 파이썬이 재밌어요\n",
      "선생님 파이썬이 재밌어요\n",
      "선생님 파이썬이 재밌어요\n",
      "선생님 파이썬이 재밌어요\n",
      "선생님 파이썬이 재밌어요\n",
      "선생님 파이썬이 재밌어요\n",
      "선생님 파이썬이 재밌어요\n",
      "함수 실행 시간: 0.00초\n"
     ]
    }
   ],
   "source": [
    "# 함수\n",
    "def timer_decorator(function):\n",
    "    def wrapper():\n",
    "\n",
    "        import time\n",
    "\n",
    "        # 시작시간, 끝난시간, 총 실행시간.\n",
    "        start_time = time.time()\n",
    "        function()\n",
    "        end_time = time.time()\n",
    "        excution_time = end_time - start_time\n",
    "\n",
    "        # 출력\n",
    "        print(f\"함수 실행 시간: {excution_time:.2f}초\")\n",
    "    return wrapper\n",
    "\n",
    "@timer_decorator\n",
    "def oz():\n",
    "    print(\"선생님 파이썬이 재밌어요\")\n",
    "    print(\"선생님 파이썬이 재밌어요\")\n",
    "    print(\"선생님 파이썬이 재밌어요\")\n",
    "\n",
    "\n",
    "oz()"
   ]
  }
 ],
 "metadata": {
  "kernelspec": {
   "display_name": "Python 3",
   "language": "python",
   "name": "python3"
  },
  "language_info": {
   "codemirror_mode": {
    "name": "ipython",
    "version": 3
   },
   "file_extension": ".py",
   "mimetype": "text/x-python",
   "name": "python",
   "nbconvert_exporter": "python",
   "pygments_lexer": "ipython3",
   "version": "3.9.6"
  }
 },
 "nbformat": 4,
 "nbformat_minor": 2
}
