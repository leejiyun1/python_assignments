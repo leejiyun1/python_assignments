{
 "cells": [
  {
   "cell_type": "markdown",
   "metadata": {},
   "source": [
    "datetime 모듈을 사용하여 현재 날짜와 시간을 출력하는 프로그램을 작성하세요. \n",
    "\n",
    "또한, 사용자로부터 태어난 년도를 입력받아 현재 나이를 계산하여 출력하세요."
   ]
  },
  {
   "cell_type": "code",
   "execution_count": null,
   "metadata": {},
   "outputs": [
    {
     "name": "stdout",
     "output_type": "stream",
     "text": [
      "당신의 나이는 25입니다.\n"
     ]
    }
   ],
   "source": [
    "# 모듈 실행\n",
    "from datetime import datetime\n",
    "\n",
    "# 현재 날짜 now에 담기\n",
    "now = datetime.now()\n",
    "\n",
    "# 현재 연도 불러오기\n",
    "current_year = now.year\n",
    "\n",
    "# 태어난 연도 입력\n",
    "birth_year = int(input(\"출생연도를 입력하세요.\"))\n",
    "\n",
    "# 계산\n",
    "age = current_year - birth_year\n",
    "\n",
    "#출력\n",
    "print(f\"당신의 나이는 {age}입니다.\")\n"
   ]
  }
 ],
 "metadata": {
  "kernelspec": {
   "display_name": "Python 3",
   "language": "python",
   "name": "python3"
  },
  "language_info": {
   "codemirror_mode": {
    "name": "ipython",
    "version": 3
   },
   "file_extension": ".py",
   "mimetype": "text/x-python",
   "name": "python",
   "nbconvert_exporter": "python",
   "pygments_lexer": "ipython3",
   "version": "3.9.6"
  }
 },
 "nbformat": 4,
 "nbformat_minor": 2
}
