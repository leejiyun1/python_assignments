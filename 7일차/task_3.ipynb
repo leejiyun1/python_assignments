{
 "cells": [
  {
   "cell_type": "markdown",
   "metadata": {},
   "source": [
    "사용자로부터 여러 개의 숫자를 입력받아 리스트에 저장한 후, 사용자가 'done'이라고 입력할 때까지 계속 입력받으세요. \n",
    "\n",
    "- 입력 중 숫자가 아닌 값이 입력되면 ValueError를 처리\n",
    "- 숫자 외 값이 입력된 경우 어떤 값이 잘못 입력되었는지 사용자에게 알려주는 문구 출력<br>\n",
    "  (예: f\"잘못된 값: {변수}. 숫자를 입력해주세요.\")\n",
    "\n"
   ]
  },
  {
   "cell_type": "code",
   "execution_count": 7,
   "metadata": {},
   "outputs": [
    {
     "name": "stdout",
     "output_type": "stream",
     "text": [
      "입력하신 숫자는 [1]입니다.\n",
      "입력하신 숫자는 [2]입니다.\n",
      "입력하신 숫자는 [3]입니다.\n",
      "입력하신 숫자는 [4]입니다.\n",
      "입력하신 숫자는 [5]입니다.\n",
      "dlf(은)는 올바른 숫자가 아닙니다. \n",
      "숫자를 입력해주세요.\n",
      "일(은)는 올바른 숫자가 아닙니다. \n",
      "숫자를 입력해주세요.\n",
      "왜(은)는 올바른 숫자가 아닙니다. \n",
      "숫자를 입력해주세요.\n",
      "\n",
      "숫자를 입력해주세요.\n",
      "\n",
      "숫자를 입력해주세요.\n",
      "\n",
      "숫자를 입력해주세요.\n",
      "\n",
      "숫자를 입력해주세요.\n",
      "\n",
      "숫자 입력 프로그램을 종료합니다.\n"
     ]
    }
   ],
   "source": [
    "# 반복문\n",
    "while True:\n",
    "\n",
    "    # 예외처리를 위한 try-except\n",
    "    try:\n",
    "        nums = input(\"숫자를 입력해주세요. done를 입력하시면 종료됩니다.\")\n",
    "\n",
    "        if not nums.split():\n",
    "            print(\"\\n숫자를 입력해주세요.\")\n",
    "            continue\n",
    "\n",
    "        # 종료\n",
    "        if nums.lower() == \"done\":\n",
    "            print(\"\\n숫자 입력 프로그램을 종료합니다.\")\n",
    "            break\n",
    "\n",
    "        # 리스트 화\n",
    "        num_list = list(map(int, nums.split()))\n",
    "\n",
    "        # 출력\n",
    "        print(f\"입력하신 숫자는 {num_list}입니다.\")\n",
    "\n",
    "    # ValueError 처리\n",
    "    except ValueError:\n",
    "        print(f\"{nums}(은)는 올바른 숫자가 아닙니다. \\n숫자를 입력해주세요.\")"
   ]
  }
 ],
 "metadata": {
  "kernelspec": {
   "display_name": "Python 3",
   "language": "python",
   "name": "python3"
  },
  "language_info": {
   "codemirror_mode": {
    "name": "ipython",
    "version": 3
   },
   "file_extension": ".py",
   "mimetype": "text/x-python",
   "name": "python",
   "nbconvert_exporter": "python",
   "pygments_lexer": "ipython3",
   "version": "3.9.6"
  }
 },
 "nbformat": 4,
 "nbformat_minor": 2
}
