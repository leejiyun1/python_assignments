{
 "cells": [
  {
   "cell_type": "markdown",
   "metadata": {
    "id": "BX7SgOeWu86I"
   },
   "source": [
    "안녕하세요. 수강생 여러분~! \n",
    "\n",
    "다시 돌아온 조금 더 성장할 기 ! 회 ! \n",
    "\n",
    "Chapter01 ~ 16의 수업 내용을 바탕으로 아래 문제를 풀어주시면 됩니다 !\n",
    "\n",
    "지금까지 잘 해오셨으니까, 총 복습한다고 생각하시고 한번 도전해보세요 !!!\n",
    "\n",
    "차근 차근 문제와 요구사항을 읽고 작성해보세요.\n",
    "\n",
    "<br>\n",
    "\n",
    "\n",
    "[**답변 입력 방법**]\n",
    "\n",
    "문제 아래에 있는 코드 입력창에 정답코드를 작성하신 후  __▷ 버튼을 클릭해 코드를 실행__ 해보세요<br>"
   ]
  },
  {
   "cell_type": "markdown",
   "metadata": {},
   "source": [
    "---"
   ]
  },
  {
   "cell_type": "markdown",
   "metadata": {},
   "source": [
    "#### 프로젝트: 붕어빵 자동 판매 시스템\n",
    "\n",
    "\n",
    "당신은 붕어빵 가게의 주인입니다. \n",
    "\n",
    "손님들이 붕어빵을 주문하면 이를 자동으로 처리하고, 재고를 관리하는 시스템을 만들고자 합니다. \n",
    "\n",
    "또한, 관리자 모드를 통해 재고를 추가할 수 있는 기능을 구현해야 합니다.\n"
   ]
  },
  {
   "cell_type": "markdown",
   "metadata": {},
   "source": [
    "__[문제 1: 붕어빵 재고 확인]__\n",
    "\n",
    "붕어빵 가게의 현재 재고를 확인하는 기능을 구현하세요.\n",
    "\n",
    "요구사항:\n",
    "- 현재 붕어빵의 재고를 딕셔너리로 관리합니다.\n",
    "- 딕셔너리에는 붕어빵의 종류와 각각의 재고 개수가 저장됩니다.\n",
    "- 현재 재고를 화면에 출력하세요.\n",
    "\n",
    "붕어빵 재고\n",
    "- 팥붕어빵 : 10개\n",
    "- 슈크림붕어빵 : 8개\n",
    "- 초코붕어빵 : 5개"
   ]
  },
  {
   "cell_type": "code",
   "execution_count": 1,
   "metadata": {},
   "outputs": [
    {
     "name": "stdout",
     "output_type": "stream",
     "text": [
      "\n",
      "📌 현재 붕어빵 재고:\n",
      " - 팥붕어빵: 10개\n",
      " - 슈크림붕어빵: 8개\n",
      " - 초코붕어빵: 5개\n"
     ]
    }
   ],
   "source": [
    "# 붕어빵 재고 딕셔너리\n",
    "inventory = {\n",
    "    \"팥붕어빵\": 10,\n",
    "    \"슈크림붕어빵\": 8,\n",
    "    \"초코붕어빵\": 5\n",
    "}\n",
    "\n",
    "# 현재 붕어빵 재고 출력 함수\n",
    "def show_inventory():\n",
    "    print(\"\\n📌 현재 붕어빵 재고:\")\n",
    "    for bread, count in inventory.items():\n",
    "        print(f\" - {bread}: {count}개\")\n",
    "\n",
    "# 실행\n",
    "show_inventory()"
   ]
  },
  {
   "cell_type": "markdown",
   "metadata": {},
   "source": [
    "__[문제 2: 붕어빵 주문 받기]__\n",
    "\n",
    "손님이 주문한 붕어빵의 종류와 개수를 입력받는 기능을 구현하세요.\n",
    "\n",
    "요구사항:\n",
    "- 손님이 주문할 붕어빵의 종류와 개수를 입력받습니다.\n",
    "- 주문 내용을 딕셔너리에 저장하세요.\n",
    "- 주문 내역을 출력해주세요."
   ]
  },
  {
   "cell_type": "code",
   "execution_count": 3,
   "metadata": {},
   "outputs": [
    {
     "name": "stdout",
     "output_type": "stream",
     "text": [
      "\n",
      "💡 붕어빵 주문을 받습니다.\n",
      "\n",
      "✅ 주문 내역:\n",
      " - 팥: 1개\n"
     ]
    }
   ],
   "source": [
    "# 붕어빵 주문 받기\n",
    "def get_order():\n",
    "    order = {}\n",
    "    print(\"\\n💡 붕어빵 주문을 받습니다.\")\n",
    "    \n",
    "    bread_type = input(\"👉 주문할 붕어빵 종류를 입력하세요: \")\n",
    "    quantity = int(input(\"👉 주문 개수를 입력하세요: \"))\n",
    "    \n",
    "    order[bread_type] = quantity\n",
    "    \n",
    "    print(\"\\n✅ 주문 내역:\")\n",
    "    for bread, count in order.items():\n",
    "        print(f\" - {bread}: {count}개\")\n",
    "    \n",
    "    return order\n",
    "\n",
    "# 실행\n",
    "order = get_order()\n"
   ]
  },
  {
   "cell_type": "markdown",
   "metadata": {},
   "source": [
    "__[문제 3: 붕어빵 주문 처리]__\n",
    "\n",
    "손님의 주문을 처리하여 붕어빵 재고를 업데이트하는 기능을 구현하세요.\n",
    "\n",
    "요구사항:\n",
    "- 손님의 주문 내용을 기반으로 재고를 업데이트합니다.\n",
    "- 재고가 부족할 경우, 손님에게 재고 부족을 알리고 재고를 감소시키지 않습니다.\n",
    "- 재고가 충분할 경우, 주문한 만큼 재고를 감소시키고 판매를 완료합니다.\n",
    "- 판매가 완료된 경우 판매된 붕어빵 맛과 개수를 출력하세요."
   ]
  },
  {
   "cell_type": "code",
   "execution_count": 5,
   "metadata": {},
   "outputs": [
    {
     "name": "stdout",
     "output_type": "stream",
     "text": [
      "\n",
      "💡 붕어빵 주문을 받습니다.\n",
      "\n",
      "✅ 주문 내역:\n",
      " - 팥붕어빵: 3개\n",
      "✅ 팥붕어빵 3개 판매 완료!\n",
      "\n",
      "📌 현재 붕어빵 재고:\n",
      " - 팥붕어빵: 7개\n",
      " - 슈크림붕어빵: 8개\n",
      " - 초코붕어빵: 5개\n"
     ]
    }
   ],
   "source": [
    "# 붕어빵 재고 딕셔너리\n",
    "inventory = {\n",
    "    \"팥붕어빵\": 10,\n",
    "    \"슈크림붕어빵\": 8,\n",
    "    \"초코붕어빵\": 5\n",
    "}\n",
    "\n",
    "# 주문 처리 함수\n",
    "def process_order(order):\n",
    "    for bread, quantity in order.items():\n",
    "        if bread in inventory:\n",
    "            if inventory[bread] >= quantity:\n",
    "                inventory[bread] -= quantity\n",
    "                print(f\"✅ {bread} {quantity}개 판매 완료!\")\n",
    "            else:\n",
    "                print(f\"⚠️ {bread} 재고 부족! (현재 재고: {inventory[bread]}개)\")\n",
    "        else:\n",
    "            print(f\"❌ {bread}는 판매하지 않습니다.\")\n",
    "\n",
    "# 실행\n",
    "order = get_order()\n",
    "process_order(order)\n",
    "\n",
    "# 현재 재고 출력\n",
    "show_inventory()\n"
   ]
  },
  {
   "cell_type": "markdown",
   "metadata": {},
   "source": [
    "__[문제 4: 여러 손님 주문 처리]__\n",
    "\n",
    "여러 손님들의 주문을 처리할 수 있도록 시스템을 확장하세요.\n",
    "\n",
    "요구사항:\n",
    "- 손님이 \"종료\"를 입력할 때까지 주문을 계속 받습니다.\n",
    "- 각 주문마다 재고를 업데이트합니다.\n",
    "- 현재 재고를 화면에 출력합니다."
   ]
  },
  {
   "cell_type": "code",
   "execution_count": 6,
   "metadata": {},
   "outputs": [
    {
     "name": "stdout",
     "output_type": "stream",
     "text": [
      "\n",
      "💡 붕어빵 주문을 받습니다.\n",
      "\n",
      "✅ 주문 내역:\n",
      " - 팥붕어빵: 4개\n",
      "✅ 팥붕어빵 4개 판매 완료!\n",
      "\n",
      "📌 현재 붕어빵 재고:\n",
      " - 팥붕어빵: 3개\n",
      " - 슈크림붕어빵: 8개\n",
      " - 초코붕어빵: 5개\n"
     ]
    }
   ],
   "source": [
    "# 여러 손님 주문 받기\n",
    "def multiple_orders():\n",
    "    while True:\n",
    "        order = get_order()\n",
    "        process_order(order)\n",
    "        show_inventory()\n",
    "        \n",
    "        more_orders = input(\"\\n💡 더 주문 받으시겠습니까? (y/n): \").strip().lower()\n",
    "        if more_orders != \"y\":\n",
    "            break\n",
    "\n",
    "# 실행\n",
    "multiple_orders()"
   ]
  },
  {
   "cell_type": "markdown",
   "metadata": {},
   "source": [
    "__[문제 5: 관리자 모드]__\n",
    "\n",
    "관리자 모드를 통해 붕어빵 재고를 추가할 수 있는 기능을 구현하세요.\n",
    "\n",
    "요구사항:\n",
    "- 관리자는 특정 붕어빵의 재고를 추가할 수 있습니다.\n",
    "- \"종료\"를 입력하면 관리자 모드를 종료합니다.\n",
    "- 추가된 재고를 업데이트하고 현재 재고를 화면에 출력합니다."
   ]
  },
  {
   "cell_type": "code",
   "execution_count": 1,
   "metadata": {},
   "outputs": [
    {
     "name": "stdout",
     "output_type": "stream",
     "text": [
      "\n",
      "🔧 관리자 모드 - '종료' 입력 시 종료\n",
      "\n",
      "📌 현재 붕어빵 재고:\n",
      " - 팥붕어빵: 10개\n",
      " - 슈크림붕어빵: 8개\n",
      " - 초코붕어빵: 5개\n",
      "❌ 해당 붕어빵은 등록되지 않았습니다. 다시 입력해주세요.\n",
      "\n",
      "🔧 관리자 모드 - '종료' 입력 시 종료\n",
      "\n",
      "📌 현재 붕어빵 재고:\n",
      " - 팥붕어빵: 10개\n",
      " - 슈크림붕어빵: 8개\n",
      " - 초코붕어빵: 5개\n",
      "✅ 팥붕어빵 5개 추가 완료!\n",
      "\n",
      "🔧 관리자 모드 - '종료' 입력 시 종료\n",
      "\n",
      "📌 현재 붕어빵 재고:\n",
      " - 팥붕어빵: 15개\n",
      " - 슈크림붕어빵: 8개\n",
      " - 초코붕어빵: 5개\n",
      "🚪 관리자 모드를 종료합니다.\n"
     ]
    }
   ],
   "source": [
    "# 붕어빵 재고 딕셔너리 (예제용)\n",
    "inventory = {\n",
    "    \"팥붕어빵\": 10,\n",
    "    \"슈크림붕어빵\": 8,\n",
    "    \"초코붕어빵\": 5\n",
    "}\n",
    "\n",
    "# 현재 붕어빵 재고 출력 함수\n",
    "def show_inventory():\n",
    "    print(\"\\n📌 현재 붕어빵 재고:\")\n",
    "    for bread, count in inventory.items():\n",
    "        print(f\" - {bread}: {count}개\")\n",
    "\n",
    "# 🔧 관리자 모드 (재고 추가) - 종료 문제 해결\n",
    "def manager_mode():\n",
    "    while True:\n",
    "        print(\"\\n🔧 관리자 모드 - '종료' 입력 시 종료\")\n",
    "        show_inventory()\n",
    "        \n",
    "        bread_type = input(\"👉 추가할 붕어빵 종류 입력: \").strip()\n",
    "        \n",
    "        if bread_type.lower() == \"종료\":  # '종료' 입력 시 루프 종료\n",
    "            print(\"🚪 관리자 모드를 종료합니다.\")\n",
    "            break\n",
    "\n",
    "        if bread_type not in inventory:\n",
    "            print(\"❌ 해당 붕어빵은 등록되지 않았습니다. 다시 입력해주세요.\")\n",
    "            continue\n",
    "\n",
    "        try:\n",
    "            add_quantity = input(\"👉 추가할 개수를 입력하세요: \").strip()\n",
    "            if add_quantity.lower() == \"종료\":  # 개수 입력에서도 종료 가능\n",
    "                print(\"🚪 관리자 모드를 종료합니다.\")\n",
    "                break\n",
    "            \n",
    "            add_quantity = int(add_quantity)  # 숫자로 변환\n",
    "            if add_quantity <= 0:\n",
    "                print(\"❌ 1개 이상 추가해주세요.\")\n",
    "                continue\n",
    "        except ValueError:\n",
    "            print(\"❌ 숫자로 입력해주세요.\")\n",
    "            continue\n",
    "\n",
    "        inventory[bread_type] += add_quantity\n",
    "        print(f\"✅ {bread_type} {add_quantity}개 추가 완료!\")\n",
    "\n",
    "# 실행\n",
    "manager_mode()\n"
   ]
  },
  {
   "cell_type": "markdown",
   "metadata": {},
   "source": [
    "__[문제 6: 매출 확인]__\n",
    "\n",
    "붕어빵 판매 가격을 설정하고, 판매한 붕어빵의 매출을 계산하세요.\n",
    "\n",
    "요구사항:\n",
    "- 각 붕어빵의 가격을 딕셔너리로 관리합니다.\n",
    "- 판매된 붕어빵의 종류와 개수를 딕셔너리로 관리합니다.\n",
    "- 총 매출을 계산하여 출력합니다.\n",
    "\n",
    "초기 설정:\n",
    "- 가격\n",
    "    - \"팥붕어빵\": 1000\n",
    "    - \"슈크림붕어빵\": 1200\n",
    "    - \"초코붕어빵\": 1500\n",
    "\n",
    "- 판매 개수\n",
    "    - \"팥붕어빵\": 0\n",
    "    - \"슈크림붕어빵\": 0\n",
    "    - \"초코붕어빵\": 0"
   ]
  },
  {
   "cell_type": "code",
   "execution_count": 1,
   "metadata": {},
   "outputs": [
    {
     "name": "stdout",
     "output_type": "stream",
     "text": [
      "\n",
      "💰 총 매출 확인\n",
      " - 팥붕어빵: 0개 판매, 매출 0원\n",
      " - 슈크림붕어빵: 0개 판매, 매출 0원\n",
      " - 초코붕어빵: 0개 판매, 매출 0원\n",
      "\n",
      "📢 총 매출: 0원\n"
     ]
    }
   ],
   "source": [
    "# 붕어빵 가격 딕셔너리\n",
    "prices = {\n",
    "    \"팥붕어빵\": 1000,\n",
    "    \"슈크림붕어빵\": 1200,\n",
    "    \"초코붕어빵\": 1500\n",
    "}\n",
    "\n",
    "# 판매된 붕어빵 개수 딕셔너리\n",
    "sales = {\n",
    "    \"팥붕어빵\": 0,\n",
    "    \"슈크림붕어빵\": 0,\n",
    "    \"초코붕어빵\": 0\n",
    "}\n",
    "\n",
    "# 판매 데이터 업데이트 함수 (문제 3에 추가)\n",
    "def update_sales(order):\n",
    "    for bread, quantity in order.items():\n",
    "        if bread in sales:\n",
    "            sales[bread] += quantity\n",
    "\n",
    "# 매출 확인 함수\n",
    "def check_sales():\n",
    "    total_sales = 0\n",
    "    print(\"\\n💰 총 매출 확인\")\n",
    "    for bread, count in sales.items():\n",
    "        revenue = count * prices[bread]\n",
    "        total_sales += revenue\n",
    "        print(f\" - {bread}: {count}개 판매, 매출 {revenue}원\")\n",
    "    print(f\"\\n📢 총 매출: {total_sales}원\")\n",
    "\n",
    "# 실행\n",
    "check_sales()\n"
   ]
  }
 ],
 "metadata": {
  "colab": {
   "authorship_tag": "ABX9TyMLQjyUmELFyKkx1AyovOFZ",
   "provenance": []
  },
  "kernelspec": {
   "display_name": "Python 3",
   "name": "python3"
  },
  "language_info": {
   "codemirror_mode": {
    "name": "ipython",
    "version": 3
   },
   "file_extension": ".py",
   "mimetype": "text/x-python",
   "name": "python",
   "nbconvert_exporter": "python",
   "pygments_lexer": "ipython3",
   "version": "3.9.6"
  }
 },
 "nbformat": 4,
 "nbformat_minor": 0
}
