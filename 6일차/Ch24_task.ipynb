{
 "cells": [
  {
   "cell_type": "markdown",
   "metadata": {},
   "source": [
    "사용자의 이름, 나이, 성별을 출력하는 함수 print_info를 작성하세요. 이 때, 모든 매개변수는 키워드 매개변수로만 받도록 하세요."
   ]
  },
  {
   "cell_type": "code",
   "execution_count": 3,
   "metadata": {},
   "outputs": [
    {
     "name": "stdout",
     "output_type": "stream",
     "text": [
      "이름: 이지윤\n",
      "나이: 26\n",
      "성별: 남성\n"
     ]
    }
   ],
   "source": [
    "def print_info(**kwargs):\n",
    "    \"\"\"\n",
    "    사용자의 이름, 나이, 성별을 출력하는 함수.\n",
    "    모든 매개변수는 키워드 매개변수로만 받음.\n",
    "    \n",
    "    :param kwargs: 키워드 인자로 전달된 사용자 정보 (이름, 나이, 성별)\n",
    "    \"\"\"\n",
    "    name = kwargs.get(\"name\", \"이름 없음\")\n",
    "    age = kwargs.get(\"age\", \"나이 없음\")\n",
    "    gender = kwargs.get(\"gender\", \"성별 없음\")\n",
    "    \n",
    "    print(f\"이름: {name}\")\n",
    "    print(f\"나이: {age}\")\n",
    "    print(f\"성별: {gender}\")\n",
    "\n",
    "# 사용 예시\n",
    "print_info(name=\"이지윤\", age=26, gender=\"남성\")\n"
   ]
  }
 ],
 "metadata": {
  "kernelspec": {
   "display_name": "Python 3",
   "language": "python",
   "name": "python3"
  },
  "language_info": {
   "codemirror_mode": {
    "name": "ipython",
    "version": 3
   },
   "file_extension": ".py",
   "mimetype": "text/x-python",
   "name": "python",
   "nbconvert_exporter": "python",
   "pygments_lexer": "ipython3",
   "version": "3.9.6"
  }
 },
 "nbformat": 4,
 "nbformat_minor": 2
}
