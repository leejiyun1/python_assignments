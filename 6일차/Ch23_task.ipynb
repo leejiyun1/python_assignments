{
 "cells": [
  {
   "cell_type": "markdown",
   "metadata": {},
   "source": [
    "사용자의 이름을 출력하는 함수 print_name을 작성하세요. 만약 이름이 주어지지 않았다면, 기본값으로 \"익명\"을 사용하세요."
   ]
  },
  {
   "cell_type": "code",
   "execution_count": null,
   "metadata": {},
   "outputs": [
    {
     "name": "stdout",
     "output_type": "stream",
     "text": [
      "익명\n"
     ]
    }
   ],
   "source": [
    "# 함수 설정\n",
    "def print_name():\n",
    "\n",
    "    # 이름 입력\n",
    "    name = input(\"이름을 입력해주세요.\")\n",
    "\n",
    "    # 이름을 입력 안한 경우\n",
    "    if not name:\n",
    "        name = \"익명\"\n",
    "        \n",
    "    # 출력\n",
    "    print(name)\n",
    "\n",
    "# 호출\n",
    "print_name()"
   ]
  }
 ],
 "metadata": {
  "kernelspec": {
   "display_name": "Python 3",
   "language": "python",
   "name": "python3"
  },
  "language_info": {
   "codemirror_mode": {
    "name": "ipython",
    "version": 3
   },
   "file_extension": ".py",
   "mimetype": "text/x-python",
   "name": "python",
   "nbconvert_exporter": "python",
   "pygments_lexer": "ipython3",
   "version": "3.9.6"
  }
 },
 "nbformat": 4,
 "nbformat_minor": 2
}
