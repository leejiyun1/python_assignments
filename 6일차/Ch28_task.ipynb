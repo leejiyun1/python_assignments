{
 "cells": [
  {
   "cell_type": "markdown",
   "metadata": {},
   "source": [
    "사용자로부터 3개의 숫자를 입력받아, 이를 튜플로 만든 후 최소값과 최대값을 출력하는 함수 min_max를 작성하세요."
   ]
  },
  {
   "cell_type": "code",
   "execution_count": 1,
   "metadata": {},
   "outputs": [
    {
     "name": "stdout",
     "output_type": "stream",
     "text": [
      "최소값: 1, 최대값: 3\n"
     ]
    }
   ],
   "source": [
    "# 함수 만들기\n",
    "def min_max():\n",
    "\n",
    "    # 숫자 받아오기\n",
    "    num1 = int(input(\"첫번째 숫자를 입력해주세요.\"))\n",
    "    num2 = int(input(\"두번째 숫자를 입력해주세요.\"))\n",
    "    num3 = int(input(\"세번째 숫자를 입력해주세요.\"))\n",
    "\n",
    "    # 튜플로 만들기\n",
    "    nums = (num1, num2, num3)\n",
    "\n",
    "    # 최소값 최대값 찾기\n",
    "    nums_min = min(nums)\n",
    "    nums_max = max(nums)\n",
    "\n",
    "    # 출력\n",
    "    print(f\"최소값: {nums_min}, 최대값: {nums_max}\")\n",
    "\n",
    "\n",
    "# 함수 호출\n",
    "min_max()\n"
   ]
  }
 ],
 "metadata": {
  "kernelspec": {
   "display_name": "Python 3",
   "language": "python",
   "name": "python3"
  },
  "language_info": {
   "codemirror_mode": {
    "name": "ipython",
    "version": 3
   },
   "file_extension": ".py",
   "mimetype": "text/x-python",
   "name": "python",
   "nbconvert_exporter": "python",
   "pygments_lexer": "ipython3",
   "version": "3.9.6"
  }
 },
 "nbformat": 4,
 "nbformat_minor": 2
}
