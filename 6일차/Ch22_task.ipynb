{
 "cells": [
  {
   "cell_type": "markdown",
   "metadata": {},
   "source": [
    "여러 숫자를 입력받아 그 합계를 반환하는 함수 sum_numbers를 작성하세요. 이 때, 가변 매개변수를 사용하세요."
   ]
  },
  {
   "cell_type": "code",
   "execution_count": 5,
   "metadata": {},
   "outputs": [
    {
     "name": "stdout",
     "output_type": "stream",
     "text": [
      "15\n"
     ]
    }
   ],
   "source": [
    "def sum_numbers(*args):\n",
    "    total = 0 # 합계를 저장할 변수\n",
    "    for num in args: # 가져오기\n",
    "        total += num # 더하기\n",
    "    \n",
    "    return total # 반환\n",
    "\n",
    "# 입력받기\n",
    "user_input = input(\"숫자를 띄워쓰기로 입력해주세요.\")\n",
    "\n",
    "# 입력된 문자열을 숫자로 변경\n",
    "number = map(int, user_input.split())\n",
    "\n",
    "# 함수 호출\n",
    "result = sum_numbers(*number)\n",
    "\n",
    "print(result)"
   ]
  }
 ],
 "metadata": {
  "kernelspec": {
   "display_name": "Python 3",
   "language": "python",
   "name": "python3"
  },
  "language_info": {
   "codemirror_mode": {
    "name": "ipython",
    "version": 3
   },
   "file_extension": ".py",
   "mimetype": "text/x-python",
   "name": "python",
   "nbconvert_exporter": "python",
   "pygments_lexer": "ipython3",
   "version": "3.9.6"
  }
 },
 "nbformat": 4,
 "nbformat_minor": 2
}
